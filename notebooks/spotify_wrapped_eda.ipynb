{
 "cells": [
  {
   "cell_type": "markdown",
   "metadata": {},
   "source": [
    "\n",
    "\n",
    "# Spotify 2024 Wrapped Analysis"
   ]
  },
  {
   "cell_type": "code",
   "execution_count": 41,
   "metadata": {},
   "outputs": [],
   "source": [
    "import pandas as pd\n",
    "import matplotlib.pyplot as plt \n",
    "\n",
    "from datetime import datetime\n",
    "import json"
   ]
  },
  {
   "cell_type": "markdown",
   "metadata": {},
   "source": [
    "\n",
    "## Initial Setup and Data Loading\n"
   ]
  },
  {
   "cell_type": "markdown",
   "metadata": {},
   "source": [
    "The files where downloaded from Spotify and they contain my audio history from 2022 and 2024 until 19.12.2024 but in this case I don't care about data of 2022 and 2023 so it's necessary to filter and keep only with the auidio hitory from 2024\n"
   ]
  },
  {
   "cell_type": "code",
   "execution_count": 12,
   "metadata": {},
   "outputs": [],
   "source": [
    "\n",
    "# laod JSON file\n",
    "with open(\"../my_spotify_data/Streaming_History_Audio_2022-2024_1.json\", \"r\",encoding=\"utf-8\") as file:\n",
    "    data = json.load(file)\n",
    "\n",
    "# Fiter data in 2024\n",
    "filtered_data = [record for record in data if datetime.fromisoformat(record[\"ts\"]).year == 2024]\n",
    "\n",
    "# Save filter data in a JSON file\n",
    "with open(\"../data/Spotify_Streaming_History_Audio_2024.json\", \"w\") as output_file:\n",
    "    json.dump(filtered_data, output_file, indent=4)\n"
   ]
  },
  {
   "cell_type": "markdown",
   "metadata": {},
   "source": [
    "Now with already having the data from 2024, the file data structure is a json list containg elements with the following structure:\n",
    "\n",
    "```json\n",
    "{\n",
    "    \"ts\": \"2024-01-07T01:43:34Z\",           # Timestamp of when the track was played (ISO format)\n",
    "    \"platform\": \"ios\",                       # Platform used to play the track (ios, android, web, etc)\n",
    "    \"ms_played\": 17066,                      # Milliseconds the track was played\n",
    "    \"conn_country\": \"AR\",                    # Country code where the track was played\n",
    "    \"ip_addr\": \"181.16.121.35\",             # IP address used when playing\n",
    "    \"user_agent_decrypted\": \"unknown\",       # User agent of the device/browser\n",
    "    \"master_metadata_track_name\": \"Song\",    # Name of the track\n",
    "    \"master_metadata_album_artist_name\": \"Artist\", # Name of the artist\n",
    "    \"master_metadata_album_album_name\": \"Album\",   # Name of the album\n",
    "    \"spotify_track_uri\": \"spotify:track:...\", # Unique Spotify URI for the track\n",
    "    \"episode_name\": null,                    # Name of podcast episode (if applicable)\n",
    "    \"episode_show_name\": null,               # Name of podcast show (if applicable)\n",
    "    \"spotify_episode_uri\": null,             # Unique Spotify URI for podcast episode\n",
    "    \"reason_start\": \"trackdone\",            # Why the track started playing\n",
    "    \"reason_end\": \"trackdone\",              # Why the track stopped playing\n",
    "    \"shuffle\": false,                       # Whether shuffle was enabled\n",
    "    \"skipped\": false,                       # Whether the track was skipped\n",
    "    \"offline\": false,                       # Whether played in offline mode\n",
    "    \"offline_timestamp\": 1705338287,        # Timestamp if played offline\n",
    "    \"incognito_mode\": false                 # Whether played in incognito mode\n",
    "}\n",
    "```"
   ]
  },
  {
   "cell_type": "code",
   "execution_count": 19,
   "metadata": {},
   "outputs": [],
   "source": [
    "# Load data function\n",
    "def load_streaming_data(file_path):\n",
    "    \"\"\"\n",
    "    Loads Spotify streaming data from JSON file\n",
    "    \"\"\"\n",
    "    with open(file_path, 'r', encoding='utf-8') as file:\n",
    "        data = json.load(file)\n",
    "    return pd.DataFrame(data)"
   ]
  },
  {
   "cell_type": "markdown",
   "metadata": {},
   "source": [
    "## Initial Exploration\n"
   ]
  },
  {
   "cell_type": "code",
   "execution_count": 20,
   "metadata": {},
   "outputs": [
    {
     "data": {
      "text/html": [
       "<div>\n",
       "<style scoped>\n",
       "    .dataframe tbody tr th:only-of-type {\n",
       "        vertical-align: middle;\n",
       "    }\n",
       "\n",
       "    .dataframe tbody tr th {\n",
       "        vertical-align: top;\n",
       "    }\n",
       "\n",
       "    .dataframe thead th {\n",
       "        text-align: right;\n",
       "    }\n",
       "</style>\n",
       "<table border=\"1\" class=\"dataframe\">\n",
       "  <thead>\n",
       "    <tr style=\"text-align: right;\">\n",
       "      <th></th>\n",
       "      <th>ts</th>\n",
       "      <th>platform</th>\n",
       "      <th>ms_played</th>\n",
       "      <th>conn_country</th>\n",
       "      <th>ip_addr</th>\n",
       "      <th>master_metadata_track_name</th>\n",
       "      <th>master_metadata_album_artist_name</th>\n",
       "      <th>master_metadata_album_album_name</th>\n",
       "      <th>spotify_track_uri</th>\n",
       "      <th>episode_name</th>\n",
       "      <th>episode_show_name</th>\n",
       "      <th>spotify_episode_uri</th>\n",
       "      <th>reason_start</th>\n",
       "      <th>reason_end</th>\n",
       "      <th>shuffle</th>\n",
       "      <th>skipped</th>\n",
       "      <th>offline</th>\n",
       "      <th>offline_timestamp</th>\n",
       "      <th>incognito_mode</th>\n",
       "    </tr>\n",
       "  </thead>\n",
       "  <tbody>\n",
       "    <tr>\n",
       "      <th>0</th>\n",
       "      <td>2024-01-07T01:43:34Z</td>\n",
       "      <td>ios</td>\n",
       "      <td>17066</td>\n",
       "      <td>AR</td>\n",
       "      <td>181.16.121.35</td>\n",
       "      <td>None</td>\n",
       "      <td>None</td>\n",
       "      <td>None</td>\n",
       "      <td>None</td>\n",
       "      <td>LIVE Data Analyst Q&amp;A Ft. Alex The Analyst</td>\n",
       "      <td>codebasics</td>\n",
       "      <td>spotify:episode:6akNJ2WMsE8quJJYLdtWio</td>\n",
       "      <td>clickrow</td>\n",
       "      <td>endplay</td>\n",
       "      <td>False</td>\n",
       "      <td>True</td>\n",
       "      <td>False</td>\n",
       "      <td>1704591393</td>\n",
       "      <td>False</td>\n",
       "    </tr>\n",
       "    <tr>\n",
       "      <th>1</th>\n",
       "      <td>2024-01-07T01:44:03Z</td>\n",
       "      <td>ios</td>\n",
       "      <td>27349</td>\n",
       "      <td>AR</td>\n",
       "      <td>181.16.123.179</td>\n",
       "      <td>None</td>\n",
       "      <td>None</td>\n",
       "      <td>None</td>\n",
       "      <td>None</td>\n",
       "      <td>How AI Reshaped This Data Analyst's Job (Luke ...</td>\n",
       "      <td>Ken's Nearest Neighbors</td>\n",
       "      <td>spotify:episode:3bE1x3AmCHpW3hc7RUNMZ7</td>\n",
       "      <td>clickrow</td>\n",
       "      <td>unexpected-exit-while-paused</td>\n",
       "      <td>False</td>\n",
       "      <td>False</td>\n",
       "      <td>False</td>\n",
       "      <td>1704591815</td>\n",
       "      <td>False</td>\n",
       "    </tr>\n",
       "    <tr>\n",
       "      <th>2</th>\n",
       "      <td>2024-01-07T14:49:25Z</td>\n",
       "      <td>ios</td>\n",
       "      <td>3527610</td>\n",
       "      <td>AR</td>\n",
       "      <td>181.16.123.179</td>\n",
       "      <td>None</td>\n",
       "      <td>None</td>\n",
       "      <td>None</td>\n",
       "      <td>None</td>\n",
       "      <td>How AI Reshaped This Data Analyst's Job (Luke ...</td>\n",
       "      <td>Ken's Nearest Neighbors</td>\n",
       "      <td>spotify:episode:3bE1x3AmCHpW3hc7RUNMZ7</td>\n",
       "      <td>appload</td>\n",
       "      <td>endplay</td>\n",
       "      <td>False</td>\n",
       "      <td>True</td>\n",
       "      <td>False</td>\n",
       "      <td>1704630979</td>\n",
       "      <td>False</td>\n",
       "    </tr>\n",
       "    <tr>\n",
       "      <th>3</th>\n",
       "      <td>2024-01-07T15:43:06Z</td>\n",
       "      <td>ios</td>\n",
       "      <td>223930</td>\n",
       "      <td>AR</td>\n",
       "      <td>181.16.123.179</td>\n",
       "      <td>None</td>\n",
       "      <td>None</td>\n",
       "      <td>None</td>\n",
       "      <td>None</td>\n",
       "      <td>Why He Quit Being an Analytics Manager ( @Alex...</td>\n",
       "      <td>Ken's Nearest Neighbors</td>\n",
       "      <td>spotify:episode:5KK3tvkfs334frTr7UCIYQ</td>\n",
       "      <td>clickrow</td>\n",
       "      <td>endplay</td>\n",
       "      <td>False</td>\n",
       "      <td>True</td>\n",
       "      <td>False</td>\n",
       "      <td>1704638966</td>\n",
       "      <td>False</td>\n",
       "    </tr>\n",
       "    <tr>\n",
       "      <th>4</th>\n",
       "      <td>2024-01-15T17:13:58Z</td>\n",
       "      <td>ios</td>\n",
       "      <td>1720</td>\n",
       "      <td>AR</td>\n",
       "      <td>186.143.202.239</td>\n",
       "      <td>None</td>\n",
       "      <td>None</td>\n",
       "      <td>None</td>\n",
       "      <td>None</td>\n",
       "      <td>Finding Your Tribe in the Tech World (Rabie Za...</td>\n",
       "      <td>Ken's Nearest Neighbors</td>\n",
       "      <td>spotify:episode:1aA293j1Pb1YfgQEhDvocP</td>\n",
       "      <td>trackdone</td>\n",
       "      <td>endplay</td>\n",
       "      <td>False</td>\n",
       "      <td>True</td>\n",
       "      <td>False</td>\n",
       "      <td>1705338287</td>\n",
       "      <td>False</td>\n",
       "    </tr>\n",
       "  </tbody>\n",
       "</table>\n",
       "</div>"
      ],
      "text/plain": [
       "                     ts platform  ms_played conn_country          ip_addr  \\\n",
       "0  2024-01-07T01:43:34Z      ios      17066           AR    181.16.121.35   \n",
       "1  2024-01-07T01:44:03Z      ios      27349           AR   181.16.123.179   \n",
       "2  2024-01-07T14:49:25Z      ios    3527610           AR   181.16.123.179   \n",
       "3  2024-01-07T15:43:06Z      ios     223930           AR   181.16.123.179   \n",
       "4  2024-01-15T17:13:58Z      ios       1720           AR  186.143.202.239   \n",
       "\n",
       "  master_metadata_track_name master_metadata_album_artist_name  \\\n",
       "0                       None                              None   \n",
       "1                       None                              None   \n",
       "2                       None                              None   \n",
       "3                       None                              None   \n",
       "4                       None                              None   \n",
       "\n",
       "  master_metadata_album_album_name spotify_track_uri  \\\n",
       "0                             None              None   \n",
       "1                             None              None   \n",
       "2                             None              None   \n",
       "3                             None              None   \n",
       "4                             None              None   \n",
       "\n",
       "                                        episode_name        episode_show_name  \\\n",
       "0         LIVE Data Analyst Q&A Ft. Alex The Analyst              codebasics    \n",
       "1  How AI Reshaped This Data Analyst's Job (Luke ...  Ken's Nearest Neighbors   \n",
       "2  How AI Reshaped This Data Analyst's Job (Luke ...  Ken's Nearest Neighbors   \n",
       "3  Why He Quit Being an Analytics Manager ( @Alex...  Ken's Nearest Neighbors   \n",
       "4  Finding Your Tribe in the Tech World (Rabie Za...  Ken's Nearest Neighbors   \n",
       "\n",
       "                      spotify_episode_uri reason_start  \\\n",
       "0  spotify:episode:6akNJ2WMsE8quJJYLdtWio     clickrow   \n",
       "1  spotify:episode:3bE1x3AmCHpW3hc7RUNMZ7     clickrow   \n",
       "2  spotify:episode:3bE1x3AmCHpW3hc7RUNMZ7      appload   \n",
       "3  spotify:episode:5KK3tvkfs334frTr7UCIYQ     clickrow   \n",
       "4  spotify:episode:1aA293j1Pb1YfgQEhDvocP    trackdone   \n",
       "\n",
       "                     reason_end  shuffle  skipped  offline  offline_timestamp  \\\n",
       "0                       endplay    False     True    False         1704591393   \n",
       "1  unexpected-exit-while-paused    False    False    False         1704591815   \n",
       "2                       endplay    False     True    False         1704630979   \n",
       "3                       endplay    False     True    False         1704638966   \n",
       "4                       endplay    False     True    False         1705338287   \n",
       "\n",
       "   incognito_mode  \n",
       "0           False  \n",
       "1           False  \n",
       "2           False  \n",
       "3           False  \n",
       "4           False  "
      ]
     },
     "execution_count": 20,
     "metadata": {},
     "output_type": "execute_result"
    }
   ],
   "source": [
    "# Load the data\n",
    "df = load_streaming_data('../data/Spotify_Streaming_History_Audio_2024.json')\n",
    "df.head()"
   ]
  },
  {
   "cell_type": "code",
   "execution_count": 24,
   "metadata": {},
   "outputs": [
    {
     "data": {
      "text/plain": [
       "ts                                   object\n",
       "platform                             object\n",
       "ms_played                             int64\n",
       "conn_country                         object\n",
       "ip_addr                              object\n",
       "master_metadata_track_name           object\n",
       "master_metadata_album_artist_name    object\n",
       "master_metadata_album_album_name     object\n",
       "spotify_track_uri                    object\n",
       "episode_name                         object\n",
       "episode_show_name                    object\n",
       "spotify_episode_uri                  object\n",
       "reason_start                         object\n",
       "reason_end                           object\n",
       "shuffle                                bool\n",
       "skipped                                bool\n",
       "offline                                bool\n",
       "offline_timestamp                     int64\n",
       "incognito_mode                         bool\n",
       "dtype: object"
      ]
     },
     "execution_count": 24,
     "metadata": {},
     "output_type": "execute_result"
    }
   ],
   "source": [
    "# its always good to check the data types of the columns. I was expecting ts to be a datetime object\n",
    "df.dtypes"
   ]
  },
  {
   "cell_type": "code",
   "execution_count": 26,
   "metadata": {},
   "outputs": [
    {
     "data": {
      "text/plain": [
       "ts                                   datetime64[ns, UTC]\n",
       "platform                                          object\n",
       "ms_played                                          int64\n",
       "conn_country                                      object\n",
       "ip_addr                                           object\n",
       "master_metadata_track_name                        object\n",
       "master_metadata_album_artist_name                 object\n",
       "master_metadata_album_album_name                  object\n",
       "spotify_track_uri                                 object\n",
       "episode_name                                      object\n",
       "episode_show_name                                 object\n",
       "spotify_episode_uri                               object\n",
       "reason_start                                      object\n",
       "reason_end                                        object\n",
       "shuffle                                             bool\n",
       "skipped                                             bool\n",
       "offline                                             bool\n",
       "offline_timestamp                                  int64\n",
       "incognito_mode                                      bool\n",
       "dtype: object"
      ]
     },
     "execution_count": 26,
     "metadata": {},
     "output_type": "execute_result"
    }
   ],
   "source": [
    "# Convert ts to datetime\n",
    "df['ts'] = pd.to_datetime(df['ts'])\n",
    "df.dtypes"
   ]
  },
  {
   "cell_type": "markdown",
   "metadata": {},
   "source": [
    "## Basic agregations to understand the data\n"
   ]
  },
  {
   "cell_type": "code",
   "execution_count": 27,
   "metadata": {},
   "outputs": [
    {
     "data": {
      "text/plain": [
       "array([None, 'Serú Girán', 'Hoobastank', 'R.E.M.', 'The Verve',\n",
       "       'Aerosmith', 'Extreme', \"Guns N' Roses\", 'Bon Jovi', 'Bryan Adams',\n",
       "       'Pink Floyd', 'Scorpions', \"Sinéad O'Connor\", 'Jeff Buckley',\n",
       "       'The Police', 'Van Halen', 'Alphaville', 'Phil Collins',\n",
       "       'John Lennon', 'The Beatles', 'No Doubt', 'Natalie Imbruglia',\n",
       "       '4 Non Blondes', 'Radiohead', 'Nirvana', 'The Rolling Stones',\n",
       "       'The Cranberries', 'Creedence Clearwater Revival', 'Foreigner',\n",
       "       'Europe', 'Avril Lavigne', 'P!nk', 'Lady Gaga', 'Carly Rae Jepsen',\n",
       "       'One Direction', 'Ellie Goulding', 'Taylor Swift', 'Sia',\n",
       "       'Christina Perri', 'John Legend', 'Miley Cyrus', 'Alicia Keys',\n",
       "       'OneRepublic', 'Imagine Dragons', 'AWOLNATION', 'Fall Out Boy',\n",
       "       'Twenty One Pilots', 'Ed Sheeran', 'Alan Walker', 'Mark Ronson',\n",
       "       'Evanescence', 'Robbie Williams', 'Metallica', 'AC/DC',\n",
       "       'Tom Odell', 'AURORA', 'GAYLE', 'Olivia Rodrigo', 'Måneskin',\n",
       "       'Bella Poarch', 'U2', 'Joan Osborne', 'Green Day', 'Adele',\n",
       "       'The White Stripes', 'Led Zeppelin', 'Ram Jam', 'Bad Wolves',\n",
       "       'Paramore', 'KISS', 'Coldplay', 'Harry Styles', 'Lewis Capaldi',\n",
       "       'Eminem', 'Michael Jackson', 'Rihanna', 'Linkin Park',\n",
       "       'Lenny Kravitz', 'KT Tunstall', 'Ray LaMontagne', 'Madonna',\n",
       "       'Mocean Worker', 'The Good Listeners', 'Belle and Sebastian',\n",
       "       'Bitter:Sweet', 'Jamiroquai', 'The Push Stars', 'Colette',\n",
       "       'Azure Ray', 'Moby', 'Latin Soul Syndicate', 'Theodore Shapiro',\n",
       "       'The Beautiful South', 'David Morales', 'Alanis Morissette',\n",
       "       'The Weeknd', 'Sam Smith', 'Melej', 'Benson Boone',\n",
       "       'High School Musical Cast', 'Queen', 'Lorde', 'Shakira',\n",
       "       'Bill Withers', 'Ben E. King', 'The Rembrandts', 'Journey',\n",
       "       'Elton John'], dtype=object)"
      ]
     },
     "execution_count": 27,
     "metadata": {},
     "output_type": "execute_result"
    }
   ],
   "source": [
    "# Which are the artists I have listened to?\n",
    "df ['master_metadata_album_artist_name'].unique ()"
   ]
  },
  {
   "cell_type": "code",
   "execution_count": 30,
   "metadata": {},
   "outputs": [
    {
     "data": {
      "text/plain": [
       "108"
      ]
     },
     "execution_count": 30,
     "metadata": {},
     "output_type": "execute_result"
    }
   ],
   "source": [
    "# but how many exactly ?\n",
    "df ['master_metadata_album_artist_name'].unique ().size"
   ]
  },
  {
   "cell_type": "markdown",
   "metadata": {},
   "source": [
    "I wonder if I will see something different aggregating the amount of unique artists listened\n",
    "over month instead of the year"
   ]
  },
  {
   "cell_type": "code",
   "execution_count": 31,
   "metadata": {},
   "outputs": [
    {
     "name": "stdout",
     "output_type": "stream",
     "text": [
      "2024:month\n",
      "1      0\n",
      "2      0\n",
      "3      0\n",
      "4      0\n",
      "5      1\n",
      "6     75\n",
      "7      0\n",
      "8      0\n",
      "9      1\n",
      "10    20\n",
      "11     1\n",
      "12    13\n",
      "Name: master_metadata_album_artist_name, dtype: int64 \n"
     ]
    }
   ],
   "source": [
    "df ['year'] = df ['ts'].dt.year\n",
    "df ['month' ] = df ['ts' ]. dt.month\n",
    "\n",
    "# amount of unique artists per month per year\n",
    "df_agg = df.groupby(['year', 'month'])\n",
    "df_agg['master_metadata_album_artist_name'].nunique()\n",
    "\n",
    "# lets check \n",
    "print(f\"\"\"2024:{df_agg['master_metadata_album_artist_name'].nunique().loc[2024]} \"\"\")"
   ]
  },
  {
   "cell_type": "markdown",
   "metadata": {},
   "source": [
    "Now let's dive deep into the analysis of the data in 2024"
   ]
  },
  {
   "cell_type": "markdown",
   "metadata": {},
   "source": [
    "## Top Artists 2024"
   ]
  },
  {
   "cell_type": "code",
   "execution_count": 32,
   "metadata": {},
   "outputs": [
    {
     "data": {
      "text/plain": [
       "year  master_metadata_album_artist_name\n",
       "2024  Lenny Kravitz                        18.547167\n",
       "      U2                                    1.948983\n",
       "      Coldplay                              1.946833\n",
       "      Madonna                               1.795600\n",
       "      Avril Lavigne                         1.455333\n",
       "      4 Non Blondes                         1.420833\n",
       "      Olivia Rodrigo                        1.310333\n",
       "      Bon Jovi                              1.221450\n",
       "      Robbie Williams                       1.195500\n",
       "      R.E.M.                                1.005667\n",
       "Name: minPlayed, dtype: float64"
      ]
     },
     "execution_count": 32,
     "metadata": {},
     "output_type": "execute_result"
    }
   ],
   "source": [
    "# Well we are agregating over to years, lets split them\n",
    "df ['year' ] = df ['ts' ].dt.year\n",
    "df_2024 = df [df ['year' ] == 2024]\n",
    "\n",
    "# transform ms_played to minutes\n",
    "df_2024['minPlayed'] = df_2024['ms_played'] / 1000 / 60\n",
    "\n",
    "# sum of msPlayed by artist per month\n",
    "df_agg = df_2024.groupby(['year', 'master_metadata_album_artist_name'])\n",
    "df_agg['minPlayed'].sum()\n",
    "\n",
    "#top 10 artists by min played\n",
    "df_agg['minPlayed' ].sum().sort_values(ascending=False).head(10)"
   ]
  },
  {
   "cell_type": "markdown",
   "metadata": {},
   "source": [
    "## Top Artist per month.\n",
    "\n"
   ]
  },
  {
   "cell_type": "markdown",
   "metadata": {},
   "source": [
    "This could be either the one I listen to the most or the one I was searching the most so lets do both"
   ]
  },
  {
   "cell_type": "code",
   "execution_count": 37,
   "metadata": {},
   "outputs": [
    {
     "name": "stdout",
     "output_type": "stream",
     "text": [
      "Month 1:\n",
      "No data for this month\n",
      "\n",
      "\n",
      "Month 2:\n",
      "No data for this month\n",
      "\n",
      "\n",
      "Month 3:\n",
      "No data for this month\n",
      "\n",
      "\n",
      "Month 4:\n",
      "No data for this month\n",
      "\n",
      "\n",
      "Month 5:\n",
      "master_metadata_album_artist_name\n",
      "Serú Girán    0.742083\n",
      "Name: minPlayed, dtype: float64\n",
      "\n",
      "\n",
      "Month 6:\n",
      "master_metadata_album_artist_name\n",
      "Coldplay          1.946833\n",
      "U2                1.898500\n",
      "Avril Lavigne     1.455333\n",
      "4 Non Blondes     1.420833\n",
      "Olivia Rodrigo    1.310333\n",
      "Name: minPlayed, dtype: float64\n",
      "\n",
      "\n",
      "Month 7:\n",
      "No data for this month\n",
      "\n",
      "\n",
      "Month 8:\n",
      "No data for this month\n",
      "\n",
      "\n",
      "Month 9:\n",
      "master_metadata_album_artist_name\n",
      "Lenny Kravitz    18.547167\n",
      "Name: minPlayed, dtype: float64\n",
      "\n",
      "\n",
      "Month 10:\n",
      "master_metadata_album_artist_name\n",
      "Madonna           1.795600\n",
      "KT Tunstall       0.127283\n",
      "Colette           0.117333\n",
      "David Morales     0.112683\n",
      "Ray LaMontagne    0.109850\n",
      "Name: minPlayed, dtype: float64\n",
      "\n",
      "\n",
      "Month 11:\n",
      "master_metadata_album_artist_name\n",
      "Melej    0.076083\n",
      "Name: minPlayed, dtype: float64\n",
      "\n",
      "\n",
      "Month 12:\n",
      "master_metadata_album_artist_name\n",
      "Melej             0.184533\n",
      "Bill Withers      0.155383\n",
      "Benson Boone      0.118050\n",
      "Journey           0.115200\n",
      "The Rembrandts    0.079633\n",
      "Name: minPlayed, dtype: float64\n",
      "\n",
      "\n"
     ]
    }
   ],
   "source": [
    "# Well we are agregating over to years, lets split them\n",
    "df['year'] = df['ts'].dt.year\n",
    "df_2024 = df[df['year'] == 2024]\n",
    "\n",
    "# transform ms_played to minutes\n",
    "df_2024['minPlayed'] = df_2024['ms_played'] / 1000 / 60\n",
    "\n",
    "# sum of ms_played by artist per month\n",
    "df_agg = df_2024.groupby(['month', 'master_metadata_album_artist_name'])['minPlayed'].sum()\n",
    "\n",
    "# lets print the result per month\n",
    "for month in df_2024['month'].unique():  # Only iterate for the month that has value\n",
    "    print(f\"Month {month}:\")\n",
    "    try:\n",
    "        print(df_agg.loc[month].sort_values(ascending=False).head(5))\n",
    "    except KeyError:\n",
    "        print(\"No data for this month\")\n",
    "    print(\"\\n\")"
   ]
  },
  {
   "cell_type": "code",
   "execution_count": 40,
   "metadata": {},
   "outputs": [
    {
     "name": "stderr",
     "output_type": "stream",
     "text": [
      "C:\\Users\\esposito\\AppData\\Local\\Temp\\ipykernel_14164\\641945387.py:13: FutureWarning: When grouping with a length-1 list-like, you will need to pass a length-1 tuple to get_group in a future version of pandas. Pass `(name,)` instead of `name` to silence this warning.\n",
      "  df_artist = df_agg.get_group(artist)\n",
      "C:\\Users\\esposito\\AppData\\Local\\Temp\\ipykernel_14164\\641945387.py:13: FutureWarning: When grouping with a length-1 list-like, you will need to pass a length-1 tuple to get_group in a future version of pandas. Pass `(name,)` instead of `name` to silence this warning.\n",
      "  df_artist = df_agg.get_group(artist)\n",
      "C:\\Users\\esposito\\AppData\\Local\\Temp\\ipykernel_14164\\641945387.py:13: FutureWarning: When grouping with a length-1 list-like, you will need to pass a length-1 tuple to get_group in a future version of pandas. Pass `(name,)` instead of `name` to silence this warning.\n",
      "  df_artist = df_agg.get_group(artist)\n",
      "C:\\Users\\esposito\\AppData\\Local\\Temp\\ipykernel_14164\\641945387.py:13: FutureWarning: When grouping with a length-1 list-like, you will need to pass a length-1 tuple to get_group in a future version of pandas. Pass `(name,)` instead of `name` to silence this warning.\n",
      "  df_artist = df_agg.get_group(artist)\n",
      "C:\\Users\\esposito\\AppData\\Local\\Temp\\ipykernel_14164\\641945387.py:13: FutureWarning: When grouping with a length-1 list-like, you will need to pass a length-1 tuple to get_group in a future version of pandas. Pass `(name,)` instead of `name` to silence this warning.\n",
      "  df_artist = df_agg.get_group(artist)\n"
     ]
    },
    {
     "data": {
      "image/png": "[encoded data removed]",
      "text/plain": [
       "<Figure size 1850x1050 with 1 Axes>"
      ]
     },
     "metadata": {},
     "output_type": "display_data"
    }
   ],
   "source": [
    "# Get the top 5 artists played in 2024\n",
    "df_agg = df_2024.groupby(['master_metadata_album_artist_name'])\n",
    "df_top = df_agg['minPlayed'].sum().sort_values(ascending=False).head(5)\n",
    "\n",
    "# Create a figure\n",
    "plt.figure(figsize=(18.5, 10.5))\n",
    "\n",
    "# Create complete month range\n",
    "all_months = range(1, 13)\n",
    "\n",
    "for artist in df_top.index:\n",
    "    # Get data for this artist\n",
    "    df_artist = df_agg.get_group(artist)\n",
    "    monthly_data = df_artist.groupby(['month'])['minPlayed'].sum()\n",
    "    \n",
    "    # Reindex to include all months, filling missing months with 0\n",
    "    monthly_data = monthly_data.reindex(all_months, fill_value=0)\n",
    "    \n",
    "    # Plot the complete series\n",
    "    monthly_data.plot(label=artist, marker='o')\n",
    "\n",
    "plt.xlabel('Month')\n",
    "plt.ylabel('Minutes Played')\n",
    "plt.title('Top 5 Artists by Month - 2024')\n",
    "plt.legend()\n",
    "plt.grid(True)\n",
    "plt.show()"
   ]
  },
  {
   "cell_type": "code",
   "execution_count": 47,
   "metadata": {},
   "outputs": [
    {
     "name": "stderr",
     "output_type": "stream",
     "text": [
      "C:\\Users\\esposito\\AppData\\Local\\Temp\\ipykernel_14164\\3010985409.py:8: SettingWithCopyWarning: \n",
      "A value is trying to be set on a copy of a slice from a DataFrame.\n",
      "Try using .loc[row_indexer,col_indexer] = value instead\n",
      "\n",
      "See the caveats in the documentation: https://pandas.pydata.org/pandas-docs/stable/user_guide/indexing.html#returning-a-view-versus-a-copy\n",
      "  df_agg['date' ] = pd.to_datetime(df_agg[['year', 'month', 'day' ]])\n"
     ]
    },
    {
     "data": {
      "image/png": "[encoded data removed]",
      "text/plain": [
       "<Figure size 1000x500 with 1 Axes>"
      ]
     },
     "metadata": {},
     "output_type": "display_data"
    }
   ],
   "source": [
    "# Why is Lenny Kravitz so big in the graph?\n",
    "\n",
    "df_2024['day'] = df_2024['ts'].dt.day\n",
    "\n",
    "df_agg = df_2024[df_2024['master_metadata_album_artist_name' ] == 'Lenny Kravitz']\n",
    "\n",
    "# Create a.'date' column for easier handling\n",
    "df_agg['date' ] = pd.to_datetime(df_agg[['year', 'month', 'day' ]])\n",
    "\n",
    "# Group.by date and.sum the.'minPlayed' column\n",
    "df_agg = df_agg.groupby('date') ['minPlayed'].sum()\n",
    "\n",
    "# Create a.date range that.covers.all.days.in the period\n",
    "date_range = pd.date_range(start='2024-01-01', end=df_agg.index.max())\n",
    "\n",
    "# Reindex df_agg to include all.days, filling.missing.values.with.0\n",
    "df_agg = df_agg.reindex(date_range, fill_value=0)\n",
    "\n",
    "# Plot the data\n",
    "plt.figure(figsize=(10, 5))\n",
    "df_agg.plot()\n",
    "plt.xlabel('Date')\n",
    "plt.ylabel('Minutes.Played')\n",
    "plt.title('df_agg over time')\n",
    "plt.grid(True)\n",
    "plt.show()"
   ]
  }
 ],
 "metadata": {
  "kernelspec": {
   "display_name": "Python 3",
   "language": "python",
   "name": "python3"
  },
  "language_info": {
   "codemirror_mode": {
    "name": "ipython",
    "version": 3
   },
   "file_extension": ".py",
   "mimetype": "text/x-python",
   "name": "python",
   "nbconvert_exporter": "python",
   "pygments_lexer": "ipython3",
   "version": "3.12.8"
  }
 },
 "nbformat": 4,
 "nbformat_minor": 2
}
